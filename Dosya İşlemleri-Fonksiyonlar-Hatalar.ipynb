{
 "cells": [
  {
   "cell_type": "markdown",
   "metadata": {},
   "source": [
    "## Problem 1"
   ]
  },
  {
   "cell_type": "code",
   "execution_count": 110,
   "metadata": {},
   "outputs": [
    {
     "name": "stdout",
     "output_type": "stream",
     "text": [
      "9\n"
     ]
    }
   ],
   "source": [
    "with open(\"şiir.txt\",\"r\", encoding=\"utf8\") as f:\n",
    "\n",
    "    print(len(f.readlines()))\n"
   ]
  },
  {
   "cell_type": "code",
   "execution_count": 116,
   "metadata": {},
   "outputs": [
    {
     "name": "stdout",
     "output_type": "stream",
     "text": [
      "['S']\n",
      "['B']\n",
      "['M']\n",
      "['G']\n",
      "['A']\n",
      "['Ş']\n",
      "['D']\n",
      "['B']\n"
     ]
    }
   ],
   "source": [
    "with open(\"şiir.txt\") as f:\n",
    "    with open(\"şiir_satır.txt\",\"w\") as file:\n",
    "        icerik = f.readlines()\n",
    "        m = 0\n",
    "        for satır in icerik:\n",
    "            if m ==0:\n",
    "                m +=1\n",
    "                continue\n",
    "            satır = satır.replace(\"\\n\",\"\")\n",
    "            bas_harf_sayısı = 0\n",
    "            bas_harfler = []\n",
    "            index = 0\n",
    "            for karakter in satır:\n",
    "                if karakter.isupper():\n",
    "\n",
    "\n",
    "                    bas_harf_sayısı +=1\n",
    "                    bas_harfler.append(karakter)\n",
    "\n",
    "                index +=1\n",
    "            harfler = bas_harfler[:1]\n",
    "\n",
    "\n",
    "            print(harfler)\n",
    "            file.write(str(harfler))\n",
    "\n",
    "                \n",
    "                \n",
    "\n",
    "                    \n",
    "                    \n",
    "            \n",
    "    \n",
    "       \n",
    "\n",
    "    \n",
    "    "
   ]
  },
  {
   "cell_type": "markdown",
   "metadata": {},
   "source": [
    "## Problem 2"
   ]
  },
  {
   "cell_type": "code",
   "execution_count": 118,
   "metadata": {},
   "outputs": [
    {
     "name": "stdout",
     "output_type": "stream",
     "text": [
      "Lutfen bir sayı giriniz:7\n",
      "7  Asal Sayıdır.\n"
     ]
    }
   ],
   "source": [
    "sayı = int(input(\"Lutfen bir sayı giriniz:\"))\n",
    "if sayı > 1:\n",
    "    \n",
    "    for i in range(2,sayı):\n",
    "        if (sayı%i)==0:\n",
    "            print(sayı,\" Asal Sayı Degildir.\")\n",
    "            break\n",
    "    else:\n",
    "        print(sayı,\" Asal Sayıdır.\")\n",
    "else:\n",
    "    print(sayı,\" Asal Sayı Degildir\")\n",
    "\n"
   ]
  },
  {
   "cell_type": "markdown",
   "metadata": {},
   "source": [
    "## Problem 3"
   ]
  },
  {
   "cell_type": "code",
   "execution_count": 129,
   "metadata": {},
   "outputs": [
    {
     "name": "stdout",
     "output_type": "stream",
     "text": [
      "[1, 2, 3, 4, 5, 6]\n"
     ]
    }
   ],
   "source": [
    "def unique_liste(x):\n",
    "    x = list(dict.fromkeys(x))\n",
    "    print(x)\n",
    "unique_liste([1,2,2,3,3,4,5,6,2])"
   ]
  },
  {
   "cell_type": "markdown",
   "metadata": {},
   "source": [
    "## Problem 4"
   ]
  },
  {
   "cell_type": "code",
   "execution_count": 130,
   "metadata": {},
   "outputs": [
    {
     "name": "stdout",
     "output_type": "stream",
     "text": [
      "Dogum Yılınızı Girin(YYYY) :1977\n",
      "Yasınız 44'dır.\n"
     ]
    }
   ],
   "source": [
    "import datetime\n",
    "\n",
    "dogum_yılı = int(input(\"Dogum Yılınızı Girin(YYYY) :\"))\n",
    "tarih = datetime.datetime.now()\n",
    "yıl = tarih.year\n",
    "yas = yıl-dogum_yılı\n",
    "\n",
    "print(\"Yasınız {}'dır.\".format(yas))"
   ]
  },
  {
   "cell_type": "code",
   "execution_count": null,
   "metadata": {},
   "outputs": [],
   "source": []
  }
 ],
 "metadata": {
  "kernelspec": {
   "display_name": "Python 3",
   "language": "python",
   "name": "python3"
  },
  "language_info": {
   "codemirror_mode": {
    "name": "ipython",
    "version": 3
   },
   "file_extension": ".py",
   "mimetype": "text/x-python",
   "name": "python",
   "nbconvert_exporter": "python",
   "pygments_lexer": "ipython3",
   "version": "3.8.5"
  }
 },
 "nbformat": 4,
 "nbformat_minor": 4
}
